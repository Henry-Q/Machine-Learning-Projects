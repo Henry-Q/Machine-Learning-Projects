{
 "cells": [
  {
   "cell_type": "markdown",
   "metadata": {},
   "source": [
    "# LAB 2 - LINEAR REGRESSION IN PYTHON\n",
    "\n",
    "This lab is comprised of two main parts. We will see two ways of running Multiple Linear Regression:\n",
    "- 1. MLR with only numerical variables\n",
    "- 2. MLR with numerical + categorical variables\n",
    "\n",
    "We will use the Linear Regression package from the `statsmodels` library. This library includes a variety of functions that are helpful for data exploration and statiscal models, its documentation can be found here: https://www.statsmodels.org/stable/index.html. \n",
    "\n",
    "For data visualization, we will first introduce `seaborn` (https://seaborn.pydata.org), which provides a high-level interface for drawing attractive and informative statistical graphics. Later, we will gradually pick up `matplotlib`, which is a more foundamental and versatile library for plotting in `Python`. \n",
    "\n",
    "\n",
    "For all packages mentioned above, if you have not done so already, you need to install the package. A common approach is to use `conda` or `pip`. In the terminal, type the following commands to install `statsmodels` (change the package name to install other packages):\n",
    "- 1. `conda install -c conda-forge statsmodels`, or\n",
    "- 2. `pip install statsmodels`\n",
    "\n",
    "More specifically, we will use Linear Regression to predict the quality of the wines as measured by their 'Auction Index'\n",
    "\n",
    "\n"
   ]
  },
  {
   "cell_type": "code",
   "execution_count": 1,
   "metadata": {},
   "outputs": [],
   "source": [
    "import numpy as np\n",
    "import pandas as pd"
   ]
  },
  {
   "cell_type": "markdown",
   "metadata": {},
   "source": [
    "As in the previous Lab, we use pandas to read the data from a `.csv` file, and consolidate it into a `Dataframe` object."
   ]
  },
  {
   "cell_type": "code",
   "execution_count": 2,
   "metadata": {},
   "outputs": [
    {
     "name": "stdout",
     "output_type": "stream",
     "text": [
      "<class 'pandas.core.frame.DataFrame'>\n",
      "RangeIndex: 46 entries, 0 to 45\n",
      "Data columns (total 9 columns):\n",
      " #   Column           Non-Null Count  Dtype  \n",
      "---  ------           --------------  -----  \n",
      " 0   Year             46 non-null     int64  \n",
      " 1   LogAuctionIndex  46 non-null     float64\n",
      " 2   WinterRain       46 non-null     float64\n",
      " 3   HarvestRain      46 non-null     float64\n",
      " 4   GrowTemp         46 non-null     float64\n",
      " 5   HarvestTemp      46 non-null     float64\n",
      " 6   Age              46 non-null     int64  \n",
      " 7   FrancePop        46 non-null     float64\n",
      " 8   USAlcConsump     46 non-null     float64\n",
      "dtypes: float64(7), int64(2)\n",
      "memory usage: 3.4 KB\n"
     ]
    }
   ],
   "source": [
    "wine = pd.read_csv('wine_agg.csv')\n",
    "wine.info()"
   ]
  },
  {
   "cell_type": "code",
   "execution_count": 3,
   "metadata": {},
   "outputs": [
    {
     "data": {
      "text/html": [
       "<div>\n",
       "<style scoped>\n",
       "    .dataframe tbody tr th:only-of-type {\n",
       "        vertical-align: middle;\n",
       "    }\n",
       "\n",
       "    .dataframe tbody tr th {\n",
       "        vertical-align: top;\n",
       "    }\n",
       "\n",
       "    .dataframe thead th {\n",
       "        text-align: right;\n",
       "    }\n",
       "</style>\n",
       "<table border=\"1\" class=\"dataframe\">\n",
       "  <thead>\n",
       "    <tr style=\"text-align: right;\">\n",
       "      <th></th>\n",
       "      <th>Year</th>\n",
       "      <th>LogAuctionIndex</th>\n",
       "      <th>WinterRain</th>\n",
       "      <th>HarvestRain</th>\n",
       "      <th>GrowTemp</th>\n",
       "      <th>HarvestTemp</th>\n",
       "      <th>Age</th>\n",
       "      <th>FrancePop</th>\n",
       "      <th>USAlcConsump</th>\n",
       "    </tr>\n",
       "  </thead>\n",
       "  <tbody>\n",
       "    <tr>\n",
       "      <th>0</th>\n",
       "      <td>1952</td>\n",
       "      <td>7.4950</td>\n",
       "      <td>566.4</td>\n",
       "      <td>165.5</td>\n",
       "      <td>17.28</td>\n",
       "      <td>14.39</td>\n",
       "      <td>63</td>\n",
       "      <td>42.46</td>\n",
       "      <td>7.85</td>\n",
       "    </tr>\n",
       "    <tr>\n",
       "      <th>1</th>\n",
       "      <td>1953</td>\n",
       "      <td>8.0393</td>\n",
       "      <td>653.3</td>\n",
       "      <td>75.6</td>\n",
       "      <td>16.94</td>\n",
       "      <td>17.64</td>\n",
       "      <td>62</td>\n",
       "      <td>42.75</td>\n",
       "      <td>8.03</td>\n",
       "    </tr>\n",
       "    <tr>\n",
       "      <th>2</th>\n",
       "      <td>1955</td>\n",
       "      <td>7.6858</td>\n",
       "      <td>504.3</td>\n",
       "      <td>129.5</td>\n",
       "      <td>17.30</td>\n",
       "      <td>17.13</td>\n",
       "      <td>60</td>\n",
       "      <td>43.43</td>\n",
       "      <td>7.84</td>\n",
       "    </tr>\n",
       "    <tr>\n",
       "      <th>3</th>\n",
       "      <td>1957</td>\n",
       "      <td>6.9845</td>\n",
       "      <td>390.8</td>\n",
       "      <td>110.4</td>\n",
       "      <td>16.31</td>\n",
       "      <td>16.47</td>\n",
       "      <td>58</td>\n",
       "      <td>44.31</td>\n",
       "      <td>7.77</td>\n",
       "    </tr>\n",
       "    <tr>\n",
       "      <th>4</th>\n",
       "      <td>1958</td>\n",
       "      <td>6.7772</td>\n",
       "      <td>538.8</td>\n",
       "      <td>187.0</td>\n",
       "      <td>16.82</td>\n",
       "      <td>19.72</td>\n",
       "      <td>57</td>\n",
       "      <td>44.79</td>\n",
       "      <td>7.74</td>\n",
       "    </tr>\n",
       "  </tbody>\n",
       "</table>\n",
       "</div>"
      ],
      "text/plain": [
       "   Year  LogAuctionIndex  WinterRain  ...  Age  FrancePop  USAlcConsump\n",
       "0  1952           7.4950       566.4  ...   63      42.46          7.85\n",
       "1  1953           8.0393       653.3  ...   62      42.75          8.03\n",
       "2  1955           7.6858       504.3  ...   60      43.43          7.84\n",
       "3  1957           6.9845       390.8  ...   58      44.31          7.77\n",
       "4  1958           6.7772       538.8  ...   57      44.79          7.74\n",
       "\n",
       "[5 rows x 9 columns]"
      ]
     },
     "execution_count": 3,
     "metadata": {},
     "output_type": "execute_result"
    }
   ],
   "source": [
    "wine.head(5)"
   ]
  },
  {
   "cell_type": "code",
   "execution_count": 4,
   "metadata": {
    "pycharm": {
     "name": "#%%\n"
    }
   },
   "outputs": [
    {
     "data": {
      "text/html": [
       "<div>\n",
       "<style scoped>\n",
       "    .dataframe tbody tr th:only-of-type {\n",
       "        vertical-align: middle;\n",
       "    }\n",
       "\n",
       "    .dataframe tbody tr th {\n",
       "        vertical-align: top;\n",
       "    }\n",
       "\n",
       "    .dataframe thead th {\n",
       "        text-align: right;\n",
       "    }\n",
       "</style>\n",
       "<table border=\"1\" class=\"dataframe\">\n",
       "  <thead>\n",
       "    <tr style=\"text-align: right;\">\n",
       "      <th></th>\n",
       "      <th>Year</th>\n",
       "      <th>LogAuctionIndex</th>\n",
       "      <th>WinterRain</th>\n",
       "      <th>HarvestRain</th>\n",
       "      <th>GrowTemp</th>\n",
       "      <th>HarvestTemp</th>\n",
       "      <th>Age</th>\n",
       "      <th>FrancePop</th>\n",
       "      <th>USAlcConsump</th>\n",
       "    </tr>\n",
       "  </thead>\n",
       "  <tbody>\n",
       "    <tr>\n",
       "      <th>Year</th>\n",
       "      <td>1.000000</td>\n",
       "      <td>-0.011346</td>\n",
       "      <td>-0.032424</td>\n",
       "      <td>0.128569</td>\n",
       "      <td>0.600924</td>\n",
       "      <td>0.277000</td>\n",
       "      <td>-1.000000</td>\n",
       "      <td>0.986137</td>\n",
       "      <td>0.131949</td>\n",
       "    </tr>\n",
       "    <tr>\n",
       "      <th>LogAuctionIndex</th>\n",
       "      <td>-0.011346</td>\n",
       "      <td>1.000000</td>\n",
       "      <td>0.058326</td>\n",
       "      <td>-0.525882</td>\n",
       "      <td>0.559727</td>\n",
       "      <td>0.469832</td>\n",
       "      <td>0.011346</td>\n",
       "      <td>-0.076993</td>\n",
       "      <td>-0.271188</td>\n",
       "    </tr>\n",
       "    <tr>\n",
       "      <th>WinterRain</th>\n",
       "      <td>-0.032424</td>\n",
       "      <td>0.058326</td>\n",
       "      <td>1.000000</td>\n",
       "      <td>-0.120258</td>\n",
       "      <td>-0.214181</td>\n",
       "      <td>-0.046874</td>\n",
       "      <td>0.032424</td>\n",
       "      <td>-0.045196</td>\n",
       "      <td>0.004174</td>\n",
       "    </tr>\n",
       "    <tr>\n",
       "      <th>HarvestRain</th>\n",
       "      <td>0.128569</td>\n",
       "      <td>-0.525882</td>\n",
       "      <td>-0.120258</td>\n",
       "      <td>1.000000</td>\n",
       "      <td>0.036437</td>\n",
       "      <td>-0.410439</td>\n",
       "      <td>-0.128569</td>\n",
       "      <td>0.112394</td>\n",
       "      <td>-0.220185</td>\n",
       "    </tr>\n",
       "    <tr>\n",
       "      <th>GrowTemp</th>\n",
       "      <td>0.600924</td>\n",
       "      <td>0.559727</td>\n",
       "      <td>-0.214181</td>\n",
       "      <td>0.036437</td>\n",
       "      <td>1.000000</td>\n",
       "      <td>0.513076</td>\n",
       "      <td>-0.600924</td>\n",
       "      <td>0.516918</td>\n",
       "      <td>-0.352116</td>\n",
       "    </tr>\n",
       "    <tr>\n",
       "      <th>HarvestTemp</th>\n",
       "      <td>0.277000</td>\n",
       "      <td>0.469832</td>\n",
       "      <td>-0.046874</td>\n",
       "      <td>-0.410439</td>\n",
       "      <td>0.513076</td>\n",
       "      <td>1.000000</td>\n",
       "      <td>-0.277000</td>\n",
       "      <td>0.250442</td>\n",
       "      <td>-0.035964</td>\n",
       "    </tr>\n",
       "    <tr>\n",
       "      <th>Age</th>\n",
       "      <td>-1.000000</td>\n",
       "      <td>0.011346</td>\n",
       "      <td>0.032424</td>\n",
       "      <td>-0.128569</td>\n",
       "      <td>-0.600924</td>\n",
       "      <td>-0.277000</td>\n",
       "      <td>1.000000</td>\n",
       "      <td>-0.986137</td>\n",
       "      <td>-0.131949</td>\n",
       "    </tr>\n",
       "    <tr>\n",
       "      <th>FrancePop</th>\n",
       "      <td>0.986137</td>\n",
       "      <td>-0.076993</td>\n",
       "      <td>-0.045196</td>\n",
       "      <td>0.112394</td>\n",
       "      <td>0.516918</td>\n",
       "      <td>0.250442</td>\n",
       "      <td>-0.986137</td>\n",
       "      <td>1.000000</td>\n",
       "      <td>0.269647</td>\n",
       "    </tr>\n",
       "    <tr>\n",
       "      <th>USAlcConsump</th>\n",
       "      <td>0.131949</td>\n",
       "      <td>-0.271188</td>\n",
       "      <td>0.004174</td>\n",
       "      <td>-0.220185</td>\n",
       "      <td>-0.352116</td>\n",
       "      <td>-0.035964</td>\n",
       "      <td>-0.131949</td>\n",
       "      <td>0.269647</td>\n",
       "      <td>1.000000</td>\n",
       "    </tr>\n",
       "  </tbody>\n",
       "</table>\n",
       "</div>"
      ],
      "text/plain": [
       "                     Year  LogAuctionIndex  ...  FrancePop  USAlcConsump\n",
       "Year             1.000000        -0.011346  ...   0.986137      0.131949\n",
       "LogAuctionIndex -0.011346         1.000000  ...  -0.076993     -0.271188\n",
       "WinterRain      -0.032424         0.058326  ...  -0.045196      0.004174\n",
       "HarvestRain      0.128569        -0.525882  ...   0.112394     -0.220185\n",
       "GrowTemp         0.600924         0.559727  ...   0.516918     -0.352116\n",
       "HarvestTemp      0.277000         0.469832  ...   0.250442     -0.035964\n",
       "Age             -1.000000         0.011346  ...  -0.986137     -0.131949\n",
       "FrancePop        0.986137        -0.076993  ...   1.000000      0.269647\n",
       "USAlcConsump     0.131949        -0.271188  ...   0.269647      1.000000\n",
       "\n",
       "[9 rows x 9 columns]"
      ]
     },
     "execution_count": 4,
     "metadata": {},
     "output_type": "execute_result"
    }
   ],
   "source": [
    "wine.corr()"
   ]
  },
  {
   "cell_type": "markdown",
   "metadata": {},
   "source": [
    "## 1. MLR (with only numerical variables)"
   ]
  },
  {
   "cell_type": "markdown",
   "metadata": {},
   "source": [
    "### Dataset train-test splitting"
   ]
  },
  {
   "cell_type": "code",
   "execution_count": 5,
   "metadata": {},
   "outputs": [
    {
     "data": {
      "text/plain": [
       "(31, 15)"
      ]
     },
     "execution_count": 5,
     "metadata": {},
     "output_type": "execute_result"
    }
   ],
   "source": [
    "wine_train = wine[wine['Year'] <= 1985]\n",
    "wine_test = wine[wine['Year'] > 1985]\n",
    "\n",
    "len(wine_train), len(wine_test)"
   ]
  },
  {
   "cell_type": "markdown",
   "metadata": {},
   "source": [
    "### Training the model\n",
    "\n",
    "We will show two ways of passing the data into the model:\n",
    "\n",
    "- We can select the columns of interest that will constitute our matrices\n",
    "\n",
    "- Or we can use syntaxis that follows R-style formulas\n",
    "\n",
    "\n"
   ]
  },
  {
   "cell_type": "markdown",
   "metadata": {},
   "source": [
    "### Training the model (using R-style formulas)\n",
    "\n",
    "https://www.statsmodels.org/stable/example_formulas.html#categorical-variables\n",
    "\n",
    "One of the main advantages of using this type of notation is the fact that categorical variables are handled automatically. \n",
    "\n",
    "Furthermore, the constant representing the intercept is generated by default in `smf.ols`.\n",
    "\n",
    "For the remaineder of this lab, we will stick with the formula style notation as presented below:"
   ]
  },
  {
   "cell_type": "code",
   "execution_count": 6,
   "metadata": {},
   "outputs": [
    {
     "name": "stdout",
     "output_type": "stream",
     "text": [
      "                            OLS Regression Results                            \n",
      "==============================================================================\n",
      "Dep. Variable:        LogAuctionIndex   R-squared:                       0.789\n",
      "Model:                            OLS   Adj. R-squared:                  0.725\n",
      "Method:                 Least Squares   F-statistic:                     12.31\n",
      "Date:                Fri, 08 Sep 2023   Prob (F-statistic):           1.86e-06\n",
      "Time:                        14:20:16   Log-Likelihood:                -5.0600\n",
      "No. Observations:                  31   AIC:                             26.12\n",
      "Df Residuals:                      23   BIC:                             37.59\n",
      "Df Model:                           7                                         \n",
      "Covariance Type:            nonrobust                                         \n",
      "================================================================================\n",
      "                   coef    std err          t      P>|t|      [0.025      0.975]\n",
      "--------------------------------------------------------------------------------\n",
      "Intercept       -4.9663      9.382     -0.529      0.602     -24.375      14.443\n",
      "WinterRain       0.0012      0.001      2.108      0.046     2.2e-05       0.002\n",
      "HarvestRain     -0.0033      0.001     -3.112      0.005      -0.006      -0.001\n",
      "GrowTemp         0.6583      0.122      5.387      0.000       0.405       0.911\n",
      "HarvestTemp      0.0044      0.060      0.074      0.942      -0.120       0.129\n",
      "Age              0.0240      0.051      0.473      0.641      -0.081       0.129\n",
      "FrancePop       -0.0290      0.137     -0.212      0.834      -0.312       0.254\n",
      "USAlcConsump     0.1093      0.168      0.651      0.522      -0.238       0.457\n",
      "==============================================================================\n",
      "Omnibus:                        0.539   Durbin-Watson:                   2.719\n",
      "Prob(Omnibus):                  0.764   Jarque-Bera (JB):                0.618\n",
      "Skew:                           0.042   Prob(JB):                        0.734\n",
      "Kurtosis:                       2.313   Cond. No.                     9.35e+04\n",
      "==============================================================================\n",
      "\n",
      "Notes:\n",
      "[1] Standard Errors assume that the covariance matrix of the errors is correctly specified.\n",
      "[2] The condition number is large, 9.35e+04. This might indicate that there are\n",
      "strong multicollinearity or other numerical problems.\n"
     ]
    }
   ],
   "source": [
    "import statsmodels.formula.api as smf\n",
    "\n",
    "ols = smf.ols(formula='LogAuctionIndex ~ WinterRain + HarvestRain + GrowTemp + HarvestTemp + Age + FrancePop + USAlcConsump', \n",
    "                 data=wine_train)\n",
    "model1 =ols.fit()\n",
    "print(model1.summary())"
   ]
  },
  {
   "cell_type": "code",
   "execution_count": 7,
   "metadata": {},
   "outputs": [],
   "source": [
    "import matplotlib.pyplot as plt\n",
    "import seaborn as sns\n",
    "def coefplot(results):\n",
    "    '''\n",
    "    Takes in results of OLS model and returns a plot of \n",
    "    the coefficients with 95% confidence intervals.\n",
    "    \n",
    "    Removes intercept, so if uncentered will return error.\n",
    "    '''\n",
    "    # Create dataframe of results summary \n",
    "    coef_df = pd.DataFrame(results.summary().tables[1].data)\n",
    "    \n",
    "    # Add column names\n",
    "    coef_df.columns = coef_df.iloc[0]\n",
    "\n",
    "    # Drop the extra row with column labels\n",
    "    coef_df=coef_df.drop(0)\n",
    "\n",
    "    # Set index to variable names \n",
    "    coef_df = coef_df.set_index(coef_df.columns[0])\n",
    "\n",
    "    # Change datatype from object to float\n",
    "    coef_df = coef_df.astype(float)\n",
    "\n",
    "    # Get errors; (coef - lower bound of conf interval)\n",
    "    errors = coef_df['coef'] - coef_df['[0.025']\n",
    "    \n",
    "    # Append errors column to dataframe\n",
    "    coef_df['errors'] = errors\n",
    "\n",
    "    # Drop the constant for plotting\n",
    "    coef_df = coef_df.drop(['Intercept'])\n",
    "\n",
    "    # Sort values by coef ascending\n",
    "    coef_df = coef_df.sort_values(by=['coef'])\n",
    "\n",
    "    ### Plot Coefficients ###\n",
    "\n",
    "    # x-labels\n",
    "    variables = list(coef_df.index.values)\n",
    "    \n",
    "    # Add variables column to dataframe\n",
    "    coef_df['variables'] = variables\n",
    "    \n",
    "    # Set sns plot style back to 'poster'\n",
    "    # This will make bars wide on plot\n",
    "    sns.set_context(\"poster\")\n",
    "\n",
    "    # Define figure, axes, and plot\n",
    "    fig, ax = plt.subplots(figsize=(8, 5))\n",
    "    \n",
    "    # Error bars for 95% confidence interval\n",
    "    # Can increase capsize to add whiskers\n",
    "    coef_df.plot(x='variables', y='coef', kind='bar',\n",
    "                 ax=ax, color='none', fontsize=22, \n",
    "                 ecolor='steelblue',capsize=0,\n",
    "                 yerr='errors', legend=False)\n",
    "    \n",
    "    # Set title & labels\n",
    "    plt.title('Coefficients of Features w/ 95% Confidence Intervals',fontsize=30)\n",
    "    ax.set_ylabel('Coefficients',fontsize=22)\n",
    "    ax.set_xlabel('',fontsize=22)\n",
    "    \n",
    "    # Coefficients\n",
    "    ax.scatter(x=np.arange(coef_df.shape[0]), \n",
    "               marker='o', s=80, \n",
    "               y=coef_df['coef'], color='steelblue')\n",
    "    \n",
    "    # Line to define zero on the y-axis\n",
    "    ax.axhline(y=0, linestyle='--', color='red', linewidth=1)\n",
    "    \n",
    "    return plt.show()\n"
   ]
  },
  {
   "cell_type": "code",
   "execution_count": 8,
   "metadata": {
    "scrolled": true
   },
   "outputs": [
    {
     "data": {
      "image/png": "[encoded data removed]",
      "text/plain": [
       "<Figure size 576x360 with 1 Axes>"
      ]
     },
     "metadata": {},
     "output_type": "display_data"
    }
   ],
   "source": [
    "coefplot(model1)"
   ]
  },
  {
   "cell_type": "markdown",
   "metadata": {},
   "source": [
    "### Evaluating the model\n",
    "\n",
    "If we want to use evaluation metrics that are not contained in the standard package, such as Out-of-sample R^2, we can manipulate our dataframe's columns and take advantage of `numpy's` matrix operation functions"
   ]
  },
  {
   "cell_type": "code",
   "execution_count": 9,
   "metadata": {},
   "outputs": [
    {
     "data": {
      "text/plain": [
       "Intercept      -4.966270\n",
       "WinterRain      0.001186\n",
       "HarvestRain    -0.003314\n",
       "GrowTemp        0.658275\n",
       "HarvestTemp     0.004421\n",
       "Age             0.024008\n",
       "FrancePop      -0.029026\n",
       "USAlcConsump    0.109256\n",
       "dtype: float64"
      ]
     },
     "execution_count": 9,
     "metadata": {},
     "output_type": "execute_result"
    }
   ],
   "source": [
    "model1.params"
   ]
  },
  {
   "cell_type": "code",
   "execution_count": 10,
   "metadata": {},
   "outputs": [],
   "source": [
    "# compute out-of-sample R-squared using the test set\n",
    "def OSR2(model, df_train, df_test, dependent_var):   \n",
    "    y_test = df_test[dependent_var]\n",
    "    y_pred = model.predict(df_test)\n",
    "    SSE = np.sum((y_test - y_pred)**2)\n",
    "    SST = np.sum((y_test - np.mean(df_train[dependent_var]))**2)    \n",
    "    return 1 - SSE/SST"
   ]
  },
  {
   "cell_type": "code",
   "execution_count": 11,
   "metadata": {},
   "outputs": [
    {
     "data": {
      "text/plain": [
       "0.5377506779455761"
      ]
     },
     "execution_count": 11,
     "metadata": {},
     "output_type": "execute_result"
    }
   ],
   "source": [
    "OSR2(model1, wine_train, wine_test, 'LogAuctionIndex')"
   ]
  },
  {
   "cell_type": "markdown",
   "metadata": {},
   "source": [
    "### Variance Inflation Factor (VIF)"
   ]
  },
  {
   "cell_type": "code",
   "execution_count": 12,
   "metadata": {},
   "outputs": [
    {
     "data": {
      "text/plain": [
       "WinterRain       1.295370\n",
       "HarvestRain      1.578682\n",
       "GrowTemp         1.700079\n",
       "HarvestTemp      2.198191\n",
       "Age             66.936256\n",
       "FrancePop       81.792302\n",
       "USAlcConsump    10.441217\n",
       "dtype: float64"
      ]
     },
     "execution_count": 12,
     "metadata": {},
     "output_type": "execute_result"
    }
   ],
   "source": [
    "# calculate Variance Inflation Factor for each explanatory variable\n",
    "from statsmodels.stats.outliers_influence import variance_inflation_factor\n",
    "import statsmodels.api as sm\n",
    "\n",
    "\n",
    "# The dataframe passed to VIF must include the intercept term. We add it the same way we did before.\n",
    "def VIF(df, columns):\n",
    "    values = sm.add_constant(df[columns]).values\n",
    "    num_columns = len(columns)+1\n",
    "    vif = [variance_inflation_factor(values, i) for i in range(num_columns)]\n",
    "    return pd.Series(vif[1:], index=columns)\n",
    "\n",
    "cols = ['WinterRain', 'HarvestRain', 'GrowTemp', 'HarvestTemp', 'Age', 'FrancePop', 'USAlcConsump']\n",
    "VIF(wine_train, cols)"
   ]
  },
  {
   "cell_type": "markdown",
   "metadata": {},
   "source": [
    "### A better model..."
   ]
  },
  {
   "cell_type": "code",
   "execution_count": 13,
   "metadata": {},
   "outputs": [
    {
     "name": "stdout",
     "output_type": "stream",
     "text": [
      "                            OLS Regression Results                            \n",
      "==============================================================================\n",
      "Dep. Variable:        LogAuctionIndex   R-squared:                       0.789\n",
      "Model:                            OLS   Adj. R-squared:                  0.736\n",
      "Method:                 Least Squares   F-statistic:                     14.95\n",
      "Date:                Fri, 08 Sep 2023   Prob (F-statistic):           4.60e-07\n",
      "Time:                        14:20:17   Log-Likelihood:                -5.0902\n",
      "No. Observations:                  31   AIC:                             24.18\n",
      "Df Residuals:                      24   BIC:                             34.22\n",
      "Df Model:                           6                                         \n",
      "Covariance Type:            nonrobust                                         \n",
      "================================================================================\n",
      "                   coef    std err          t      P>|t|      [0.025      0.975]\n",
      "--------------------------------------------------------------------------------\n",
      "Intercept       -6.8405      3.071     -2.228      0.036     -13.178      -0.503\n",
      "WinterRain       0.0012      0.001      2.266      0.033       0.000       0.002\n",
      "HarvestRain     -0.0034      0.001     -3.294      0.003      -0.005      -0.001\n",
      "GrowTemp         0.6671      0.113      5.930      0.000       0.435       0.899\n",
      "HarvestTemp      0.0021      0.058      0.036      0.972      -0.117       0.121\n",
      "Age              0.0341      0.018      1.912      0.068      -0.003       0.071\n",
      "USAlcConsump     0.0933      0.147      0.634      0.532      -0.210       0.397\n",
      "==============================================================================\n",
      "Omnibus:                        0.388   Durbin-Watson:                   2.726\n",
      "Prob(Omnibus):                  0.824   Jarque-Bera (JB):                0.534\n",
      "Skew:                           0.040   Prob(JB):                        0.766\n",
      "Kurtosis:                       2.362   Cond. No.                     3.11e+04\n",
      "==============================================================================\n",
      "\n",
      "Notes:\n",
      "[1] Standard Errors assume that the covariance matrix of the errors is correctly specified.\n",
      "[2] The condition number is large, 3.11e+04. This might indicate that there are\n",
      "strong multicollinearity or other numerical problems.\n"
     ]
    },
    {
     "data": {
      "text/plain": [
       "WinterRain      1.223155\n",
       "HarvestRain     1.509070\n",
       "GrowTemp        1.500905\n",
       "HarvestTemp     2.122007\n",
       "Age             8.580764\n",
       "USAlcConsump    8.350251\n",
       "dtype: float64"
      ]
     },
     "execution_count": 13,
     "metadata": {},
     "output_type": "execute_result"
    }
   ],
   "source": [
    "# remove FrancePop because of its high VIF\n",
    "model2 = smf.ols(formula='LogAuctionIndex ~ WinterRain + HarvestRain + GrowTemp + HarvestTemp + Age + USAlcConsump',\n",
    "                 data=wine_train).fit()\n",
    "print(model2.summary())\n",
    "\n",
    "cols = ['WinterRain', 'HarvestRain', 'GrowTemp', 'HarvestTemp', 'Age', 'USAlcConsump']\n",
    "VIF(wine_train, cols)"
   ]
  },
  {
   "cell_type": "code",
   "execution_count": 14,
   "metadata": {},
   "outputs": [
    {
     "name": "stdout",
     "output_type": "stream",
     "text": [
      "                            OLS Regression Results                            \n",
      "==============================================================================\n",
      "Dep. Variable:        LogAuctionIndex   R-squared:                       0.785\n",
      "Model:                            OLS   Adj. R-squared:                  0.743\n",
      "Method:                 Least Squares   F-statistic:                     18.30\n",
      "Date:                Fri, 08 Sep 2023   Prob (F-statistic):           1.21e-07\n",
      "Time:                        14:20:17   Log-Likelihood:                -5.3480\n",
      "No. Observations:                  31   AIC:                             22.70\n",
      "Df Residuals:                      25   BIC:                             31.30\n",
      "Df Model:                           5                                         \n",
      "Covariance Type:            nonrobust                                         \n",
      "===============================================================================\n",
      "                  coef    std err          t      P>|t|      [0.025      0.975]\n",
      "-------------------------------------------------------------------------------\n",
      "Intercept      -5.2152      1.672     -3.119      0.005      -8.659      -1.771\n",
      "WinterRain      0.0011      0.001      2.202      0.037    7.24e-05       0.002\n",
      "HarvestRain    -0.0034      0.001     -3.433      0.002      -0.005      -0.001\n",
      "GrowTemp        0.6643      0.111      5.981      0.000       0.436       0.893\n",
      "HarvestTemp    -0.0067      0.055     -0.120      0.905      -0.121       0.108\n",
      "Age             0.0235      0.006      3.820      0.001       0.011       0.036\n",
      "==============================================================================\n",
      "Omnibus:                        1.212   Durbin-Watson:                   2.663\n",
      "Prob(Omnibus):                  0.546   Jarque-Bera (JB):                0.897\n",
      "Skew:                           0.005   Prob(JB):                        0.639\n",
      "Kurtosis:                       2.167   Cond. No.                     1.72e+04\n",
      "==============================================================================\n",
      "\n",
      "Notes:\n",
      "[1] Standard Errors assume that the covariance matrix of the errors is correctly specified.\n",
      "[2] The condition number is large, 1.72e+04. This might indicate that there are\n",
      "strong multicollinearity or other numerical problems.\n"
     ]
    },
    {
     "data": {
      "text/plain": [
       "WinterRain     1.126094\n",
       "HarvestRain    1.488511\n",
       "GrowTemp       1.498590\n",
       "HarvestTemp    2.002247\n",
       "Age            1.045928\n",
       "dtype: float64"
      ]
     },
     "execution_count": 14,
     "metadata": {},
     "output_type": "execute_result"
    }
   ],
   "source": [
    "# remove USAlcConsump\n",
    "model3 = smf.ols(formula='LogAuctionIndex ~ WinterRain + HarvestRain + GrowTemp + HarvestTemp + Age',\n",
    "                 data=wine_train).fit()\n",
    "print(model3.summary())\n",
    "\n",
    "cols = ['WinterRain', 'HarvestRain', 'GrowTemp', 'HarvestTemp', 'Age']\n",
    "VIF(wine_train, cols)"
   ]
  },
  {
   "cell_type": "code",
   "execution_count": 15,
   "metadata": {},
   "outputs": [
    {
     "name": "stdout",
     "output_type": "stream",
     "text": [
      "                            OLS Regression Results                            \n",
      "==============================================================================\n",
      "Dep. Variable:        LogAuctionIndex   R-squared:                       0.785\n",
      "Model:                            OLS   Adj. R-squared:                  0.752\n",
      "Method:                 Least Squares   F-statistic:                     23.78\n",
      "Date:                Fri, 08 Sep 2023   Prob (F-statistic):           2.31e-08\n",
      "Time:                        14:20:17   Log-Likelihood:                -5.3569\n",
      "No. Observations:                  31   AIC:                             20.71\n",
      "Df Residuals:                      26   BIC:                             27.88\n",
      "Df Model:                           4                                         \n",
      "Covariance Type:            nonrobust                                         \n",
      "===============================================================================\n",
      "                  coef    std err          t      P>|t|      [0.025      0.975]\n",
      "-------------------------------------------------------------------------------\n",
      "Intercept      -5.2164      1.640     -3.180      0.004      -8.588      -1.845\n",
      "WinterRain      0.0011      0.000      2.246      0.033    9.43e-05       0.002\n",
      "HarvestRain    -0.0034      0.001     -3.971      0.001      -0.005      -0.002\n",
      "GrowTemp        0.6569      0.091      7.255      0.000       0.471       0.843\n",
      "Age             0.0236      0.006      3.940      0.001       0.011       0.036\n",
      "==============================================================================\n",
      "Omnibus:                        1.208   Durbin-Watson:                   2.664\n",
      "Prob(Omnibus):                  0.547   Jarque-Bera (JB):                0.896\n",
      "Skew:                          -0.013   Prob(JB):                        0.639\n",
      "Kurtosis:                       2.167   Cond. No.                     1.72e+04\n",
      "==============================================================================\n",
      "\n",
      "Notes:\n",
      "[1] Standard Errors assume that the covariance matrix of the errors is correctly specified.\n",
      "[2] The condition number is large, 1.72e+04. This might indicate that there are\n",
      "strong multicollinearity or other numerical problems.\n"
     ]
    },
    {
     "data": {
      "text/plain": [
       "WinterRain     1.110834\n",
       "HarvestRain    1.116268\n",
       "GrowTemp       1.035367\n",
       "Age            1.029810\n",
       "dtype: float64"
      ]
     },
     "execution_count": 15,
     "metadata": {},
     "output_type": "execute_result"
    }
   ],
   "source": [
    "# remove HarvestTemp\n",
    "model4 = smf.ols(formula='LogAuctionIndex ~ WinterRain + HarvestRain + GrowTemp + Age',\n",
    "                 data=wine_train).fit()\n",
    "print(model4.summary())\n",
    "\n",
    "cols = ['WinterRain', 'HarvestRain', 'GrowTemp', 'Age']\n",
    "VIF(wine_train, cols)"
   ]
  },
  {
   "cell_type": "markdown",
   "metadata": {},
   "source": [
    "### Feature Engineering"
   ]
  },
  {
   "cell_type": "code",
   "execution_count": 16,
   "metadata": {},
   "outputs": [
    {
     "name": "stdout",
     "output_type": "stream",
     "text": [
      "                            OLS Regression Results                            \n",
      "==============================================================================\n",
      "Dep. Variable:        LogAuctionIndex   R-squared:                       0.803\n",
      "Model:                            OLS   Adj. R-squared:                  0.763\n",
      "Method:                 Least Squares   F-statistic:                     20.33\n",
      "Date:                Fri, 08 Sep 2023   Prob (F-statistic):           4.41e-08\n",
      "Time:                        14:20:17   Log-Likelihood:                -4.0580\n",
      "No. Observations:                  31   AIC:                             20.12\n",
      "Df Residuals:                      25   BIC:                             28.72\n",
      "Df Model:                           5                                         \n",
      "Covariance Type:            nonrobust                                         \n",
      "==========================================================================================\n",
      "                             coef    std err          t      P>|t|      [0.025      0.975]\n",
      "------------------------------------------------------------------------------------------\n",
      "Intercept                 -5.9560      1.680     -3.545      0.002      -9.417      -2.496\n",
      "WinterRain                 0.0025      0.001      2.364      0.026       0.000       0.005\n",
      "HarvestRain                0.0025      0.004      0.618      0.542      -0.006       0.011\n",
      "WinterRain:HarvestRain -1.006e-05   6.81e-06     -1.478      0.152   -2.41e-05    3.96e-06\n",
      "GrowTemp                   0.6486      0.089      7.309      0.000       0.466       0.831\n",
      "Age                        0.0244      0.006      4.159      0.000       0.012       0.037\n",
      "==============================================================================\n",
      "Omnibus:                        0.531   Durbin-Watson:                   2.374\n",
      "Prob(Omnibus):                  0.767   Jarque-Bera (JB):                0.613\n",
      "Skew:                          -0.040   Prob(JB):                        0.736\n",
      "Kurtosis:                       2.316   Cond. No.                     2.63e+06\n",
      "==============================================================================\n",
      "\n",
      "Notes:\n",
      "[1] Standard Errors assume that the covariance matrix of the errors is correctly specified.\n",
      "[2] The condition number is large, 2.63e+06. This might indicate that there are\n",
      "strong multicollinearity or other numerical problems.\n"
     ]
    }
   ],
   "source": [
    "# Let us add an interaction term of GrowTemp and Age, and test its predictive power\n",
    "model5 = smf.ols(formula='LogAuctionIndex ~ WinterRain * HarvestRain + GrowTemp + Age',\n",
    "                 data=wine_train).fit()\n",
    "print(model5.summary())"
   ]
  },
  {
   "cell_type": "markdown",
   "metadata": {},
   "source": [
    "## 2. MLR (with numerical + categorical variables)\n",
    "\n",
    "For this part, we will use a second dataset, `wine_disagg.csv`, which contains additional information related to the Wineries. The `Winery` variable is a `string object`, but we can do some transformations that will help us fit it into the continuous model"
   ]
  },
  {
   "cell_type": "code",
   "execution_count": 17,
   "metadata": {},
   "outputs": [
    {
     "name": "stdout",
     "output_type": "stream",
     "text": [
      "<class 'pandas.core.frame.DataFrame'>\n",
      "RangeIndex: 147 entries, 0 to 146\n",
      "Data columns (total 10 columns):\n",
      " #   Column        Non-Null Count  Dtype  \n",
      "---  ------        --------------  -----  \n",
      " 0   Winery        147 non-null    object \n",
      " 1   Year          147 non-null    int64  \n",
      " 2   Age           147 non-null    int64  \n",
      " 3   LogAuction    147 non-null    float64\n",
      " 4   WinterRain    147 non-null    float64\n",
      " 5   HarvestRain   147 non-null    float64\n",
      " 6   GrowTemp      147 non-null    float64\n",
      " 7   HarvestTemp   147 non-null    float64\n",
      " 8   FrancePop     147 non-null    float64\n",
      " 9   USAlcConsump  147 non-null    float64\n",
      "dtypes: float64(7), int64(2), object(1)\n",
      "memory usage: 11.6+ KB\n"
     ]
    },
    {
     "data": {
      "text/html": [
       "<div>\n",
       "<style scoped>\n",
       "    .dataframe tbody tr th:only-of-type {\n",
       "        vertical-align: middle;\n",
       "    }\n",
       "\n",
       "    .dataframe tbody tr th {\n",
       "        vertical-align: top;\n",
       "    }\n",
       "\n",
       "    .dataframe thead th {\n",
       "        text-align: right;\n",
       "    }\n",
       "</style>\n",
       "<table border=\"1\" class=\"dataframe\">\n",
       "  <thead>\n",
       "    <tr style=\"text-align: right;\">\n",
       "      <th></th>\n",
       "      <th>Winery</th>\n",
       "      <th>Year</th>\n",
       "      <th>Age</th>\n",
       "      <th>LogAuction</th>\n",
       "      <th>WinterRain</th>\n",
       "      <th>HarvestRain</th>\n",
       "      <th>GrowTemp</th>\n",
       "      <th>HarvestTemp</th>\n",
       "      <th>FrancePop</th>\n",
       "      <th>USAlcConsump</th>\n",
       "    </tr>\n",
       "  </thead>\n",
       "  <tbody>\n",
       "    <tr>\n",
       "      <th>0</th>\n",
       "      <td>Cheval Blanc</td>\n",
       "      <td>1952</td>\n",
       "      <td>63</td>\n",
       "      <td>6.653108</td>\n",
       "      <td>566.4</td>\n",
       "      <td>165.5</td>\n",
       "      <td>17.28</td>\n",
       "      <td>14.39</td>\n",
       "      <td>42.46</td>\n",
       "      <td>7.85</td>\n",
       "    </tr>\n",
       "    <tr>\n",
       "      <th>1</th>\n",
       "      <td>Lafite-Rothschild</td>\n",
       "      <td>1952</td>\n",
       "      <td>63</td>\n",
       "      <td>6.861502</td>\n",
       "      <td>566.4</td>\n",
       "      <td>165.5</td>\n",
       "      <td>17.28</td>\n",
       "      <td>14.39</td>\n",
       "      <td>42.46</td>\n",
       "      <td>7.85</td>\n",
       "    </tr>\n",
       "    <tr>\n",
       "      <th>2</th>\n",
       "      <td>Cheval Blanc</td>\n",
       "      <td>1953</td>\n",
       "      <td>62</td>\n",
       "      <td>6.664192</td>\n",
       "      <td>653.3</td>\n",
       "      <td>75.6</td>\n",
       "      <td>16.94</td>\n",
       "      <td>17.64</td>\n",
       "      <td>42.75</td>\n",
       "      <td>8.03</td>\n",
       "    </tr>\n",
       "    <tr>\n",
       "      <th>3</th>\n",
       "      <td>Cheval Blanc</td>\n",
       "      <td>1955</td>\n",
       "      <td>60</td>\n",
       "      <td>6.311426</td>\n",
       "      <td>504.3</td>\n",
       "      <td>129.5</td>\n",
       "      <td>17.30</td>\n",
       "      <td>17.13</td>\n",
       "      <td>43.43</td>\n",
       "      <td>7.84</td>\n",
       "    </tr>\n",
       "    <tr>\n",
       "      <th>4</th>\n",
       "      <td>Lafite-Rothschild</td>\n",
       "      <td>1955</td>\n",
       "      <td>60</td>\n",
       "      <td>6.550209</td>\n",
       "      <td>504.3</td>\n",
       "      <td>129.5</td>\n",
       "      <td>17.30</td>\n",
       "      <td>17.13</td>\n",
       "      <td>43.43</td>\n",
       "      <td>7.84</td>\n",
       "    </tr>\n",
       "  </tbody>\n",
       "</table>\n",
       "</div>"
      ],
      "text/plain": [
       "              Winery  Year  Age  ...  HarvestTemp  FrancePop  USAlcConsump\n",
       "0       Cheval Blanc  1952   63  ...        14.39      42.46          7.85\n",
       "1  Lafite-Rothschild  1952   63  ...        14.39      42.46          7.85\n",
       "2       Cheval Blanc  1953   62  ...        17.64      42.75          8.03\n",
       "3       Cheval Blanc  1955   60  ...        17.13      43.43          7.84\n",
       "4  Lafite-Rothschild  1955   60  ...        17.13      43.43          7.84\n",
       "\n",
       "[5 rows x 10 columns]"
      ]
     },
     "execution_count": 17,
     "metadata": {},
     "output_type": "execute_result"
    }
   ],
   "source": [
    "wine_new = pd.read_csv(\"wine_disagg.csv\")\n",
    "wine_new_train = wine_new[wine_new['Year'] <= 1985]\n",
    "wine_new_test = wine_new[wine_new['Year'] > 1985]\n",
    "\n",
    "wine_new.info()\n",
    "wine_new.head()"
   ]
  },
  {
   "cell_type": "code",
   "execution_count": 18,
   "metadata": {
    "scrolled": true
   },
   "outputs": [
    {
     "name": "stdout",
     "output_type": "stream",
     "text": [
      "                            OLS Regression Results                            \n",
      "==============================================================================\n",
      "Dep. Variable:             LogAuction   R-squared:                       0.222\n",
      "Model:                            OLS   Adj. R-squared:                  0.182\n",
      "Method:                 Least Squares   F-statistic:                     5.567\n",
      "Date:                Fri, 08 Sep 2023   Prob (F-statistic):           0.000539\n",
      "Time:                        14:20:17   Log-Likelihood:                -112.14\n",
      "No. Observations:                  83   AIC:                             234.3\n",
      "Df Residuals:                      78   BIC:                             246.4\n",
      "Df Model:                           4                                         \n",
      "Covariance Type:            nonrobust                                         \n",
      "===============================================================================\n",
      "                  coef    std err          t      P>|t|      [0.025      0.975]\n",
      "-------------------------------------------------------------------------------\n",
      "Intercept      -0.2184      3.431     -0.064      0.949      -7.050       6.613\n",
      "WinterRain      0.0018      0.001      1.855      0.067      -0.000       0.004\n",
      "HarvestRain     0.0025      0.002      1.261      0.211      -0.001       0.006\n",
      "GrowTemp        0.1210      0.193      0.628      0.532      -0.263       0.505\n",
      "Age             0.0529      0.012      4.470      0.000       0.029       0.076\n",
      "==============================================================================\n",
      "Omnibus:                        7.497   Durbin-Watson:                   2.634\n",
      "Prob(Omnibus):                  0.024   Jarque-Bera (JB):                2.891\n",
      "Skew:                          -0.027   Prob(JB):                        0.236\n",
      "Kurtosis:                       2.087   Cond. No.                     1.94e+04\n",
      "==============================================================================\n",
      "\n",
      "Notes:\n",
      "[1] Standard Errors assume that the covariance matrix of the errors is correctly specified.\n",
      "[2] The condition number is large, 1.94e+04. This might indicate that there are\n",
      "strong multicollinearity or other numerical problems.\n"
     ]
    }
   ],
   "source": [
    "# Simple regression using new data, not yet incorporating the Winery variable\n",
    "modOld = smf.ols(formula='LogAuction ~ WinterRain + HarvestRain + GrowTemp + Age',\n",
    "                 data=wine_new_train).fit()\n",
    "print(modOld.summary())"
   ]
  },
  {
   "cell_type": "markdown",
   "metadata": {},
   "source": [
    "Next, let us plot the price of the wine versus year, by different wineries"
   ]
  },
  {
   "cell_type": "code",
   "execution_count": 19,
   "metadata": {
    "scrolled": true
   },
   "outputs": [
    {
     "data": {
      "text/plain": [
       "<matplotlib.legend.Legend at 0x16504f650>"
      ]
     },
     "execution_count": 19,
     "metadata": {},
     "output_type": "execute_result"
    },
    {
     "data": {
      "image/png": "[encoded data removed]",
      "text/plain": [
       "<Figure size 432x288 with 1 Axes>"
      ]
     },
     "metadata": {},
     "output_type": "display_data"
    }
   ],
   "source": [
    "sns.set_theme(style=\"darkgrid\")\n",
    "# Load an example dataset with long-form data\n",
    "fmri = sns.load_dataset(\"fmri\")\n",
    "\n",
    "# Plot the responses for different events and regions\n",
    "g = sns.lineplot(x=\"Year\", y=\"LogAuction\", hue=\"Winery\", data=wine_new)\n",
    "plt.legend(bbox_to_anchor=(1.05, 1), loc=2, borderaxespad=0.) # This line is to display the lengend out of the graph region."
   ]
  },
  {
   "cell_type": "markdown",
   "metadata": {},
   "source": [
    "### Two Wineries\n",
    "Before constructing a complete model for all the wineries, let's first attempt to regress on only 2 wineries. We pick Cheval Blanc and Cos d'Estournel as an example"
   ]
  },
  {
   "cell_type": "code",
   "execution_count": 20,
   "metadata": {},
   "outputs": [
    {
     "data": {
      "text/html": [
       "<div>\n",
       "<style scoped>\n",
       "    .dataframe tbody tr th:only-of-type {\n",
       "        vertical-align: middle;\n",
       "    }\n",
       "\n",
       "    .dataframe tbody tr th {\n",
       "        vertical-align: top;\n",
       "    }\n",
       "\n",
       "    .dataframe thead th {\n",
       "        text-align: right;\n",
       "    }\n",
       "</style>\n",
       "<table border=\"1\" class=\"dataframe\">\n",
       "  <thead>\n",
       "    <tr style=\"text-align: right;\">\n",
       "      <th></th>\n",
       "      <th>Winery</th>\n",
       "      <th>Year</th>\n",
       "      <th>Age</th>\n",
       "      <th>LogAuction</th>\n",
       "      <th>WinterRain</th>\n",
       "      <th>HarvestRain</th>\n",
       "      <th>GrowTemp</th>\n",
       "      <th>HarvestTemp</th>\n",
       "      <th>FrancePop</th>\n",
       "      <th>USAlcConsump</th>\n",
       "    </tr>\n",
       "  </thead>\n",
       "  <tbody>\n",
       "    <tr>\n",
       "      <th>73</th>\n",
       "      <td>Cos d'Estournel</td>\n",
       "      <td>1983</td>\n",
       "      <td>32</td>\n",
       "      <td>4.558498</td>\n",
       "      <td>698.3</td>\n",
       "      <td>119.3</td>\n",
       "      <td>17.87</td>\n",
       "      <td>18.57</td>\n",
       "      <td>54.77</td>\n",
       "      <td>10.46</td>\n",
       "    </tr>\n",
       "    <tr>\n",
       "      <th>76</th>\n",
       "      <td>Cheval Blanc</td>\n",
       "      <td>1984</td>\n",
       "      <td>31</td>\n",
       "      <td>5.558641</td>\n",
       "      <td>572.6</td>\n",
       "      <td>144.8</td>\n",
       "      <td>16.71</td>\n",
       "      <td>16.24</td>\n",
       "      <td>55.03</td>\n",
       "      <td>10.22</td>\n",
       "    </tr>\n",
       "    <tr>\n",
       "      <th>77</th>\n",
       "      <td>Cos d'Estournel</td>\n",
       "      <td>1984</td>\n",
       "      <td>31</td>\n",
       "      <td>3.426865</td>\n",
       "      <td>572.6</td>\n",
       "      <td>144.8</td>\n",
       "      <td>16.71</td>\n",
       "      <td>16.24</td>\n",
       "      <td>55.03</td>\n",
       "      <td>10.22</td>\n",
       "    </tr>\n",
       "    <tr>\n",
       "      <th>80</th>\n",
       "      <td>Cheval Blanc</td>\n",
       "      <td>1985</td>\n",
       "      <td>30</td>\n",
       "      <td>6.018934</td>\n",
       "      <td>667.1</td>\n",
       "      <td>37.2</td>\n",
       "      <td>17.19</td>\n",
       "      <td>19.56</td>\n",
       "      <td>55.28</td>\n",
       "      <td>9.88</td>\n",
       "    </tr>\n",
       "    <tr>\n",
       "      <th>81</th>\n",
       "      <td>Cos d'Estournel</td>\n",
       "      <td>1985</td>\n",
       "      <td>30</td>\n",
       "      <td>4.885072</td>\n",
       "      <td>667.1</td>\n",
       "      <td>37.2</td>\n",
       "      <td>17.19</td>\n",
       "      <td>19.56</td>\n",
       "      <td>55.28</td>\n",
       "      <td>9.88</td>\n",
       "    </tr>\n",
       "  </tbody>\n",
       "</table>\n",
       "</div>"
      ],
      "text/plain": [
       "             Winery  Year  Age  ...  HarvestTemp  FrancePop  USAlcConsump\n",
       "73  Cos d'Estournel  1983   32  ...        18.57      54.77         10.46\n",
       "76     Cheval Blanc  1984   31  ...        16.24      55.03         10.22\n",
       "77  Cos d'Estournel  1984   31  ...        16.24      55.03         10.22\n",
       "80     Cheval Blanc  1985   30  ...        19.56      55.28          9.88\n",
       "81  Cos d'Estournel  1985   30  ...        19.56      55.28          9.88\n",
       "\n",
       "[5 rows x 10 columns]"
      ]
     },
     "execution_count": 20,
     "metadata": {},
     "output_type": "execute_result"
    },
    {
     "data": {
      "image/png": "[encoded data removed]",
      "text/plain": [
       "<Figure size 432x288 with 1 Axes>"
      ]
     },
     "metadata": {},
     "output_type": "display_data"
    }
   ],
   "source": [
    "wine_two = wine_new[(wine_new['Winery'] == 'Cheval Blanc') | (wine_new['Winery'] == 'Cos d\\'Estournel')]\n",
    "\n",
    "g = sns.lineplot(x=\"Year\", y=\"LogAuction\", hue=\"Winery\", data=wine_two).set_title('Log of Wine Price, Two Winary')\n",
    "#plt.legend(bbox_to_anchor=(1.05, 1), loc=2, borderaxespad=0.) \n",
    "\n",
    "wine_two_train = wine_two[wine_two['Year'] <= 1985]\n",
    "wine_two_test = wine_two[wine_two['Year'] > 1985]\n",
    "wine_two_train.tail()"
   ]
  },
  {
   "cell_type": "markdown",
   "metadata": {},
   "source": [
    "### Passing a categorical variable\n",
    "To use a categorical variables like `Winery`, we can simply pass it to the formula, and `smf.ols` will handle the variable."
   ]
  },
  {
   "cell_type": "code",
   "execution_count": 21,
   "metadata": {},
   "outputs": [
    {
     "name": "stdout",
     "output_type": "stream",
     "text": [
      "                            OLS Regression Results                            \n",
      "==============================================================================\n",
      "Dep. Variable:             LogAuction   R-squared:                       0.860\n",
      "Model:                            OLS   Adj. R-squared:                  0.836\n",
      "Method:                 Least Squares   F-statistic:                     35.55\n",
      "Date:                Fri, 08 Sep 2023   Prob (F-statistic):           1.62e-11\n",
      "Time:                        14:20:19   Log-Likelihood:                -13.178\n",
      "No. Observations:                  35   AIC:                             38.36\n",
      "Df Residuals:                      29   BIC:                             47.69\n",
      "Df Model:                           5                                         \n",
      "Covariance Type:            nonrobust                                         \n",
      "=============================================================================================\n",
      "                                coef    std err          t      P>|t|      [0.025      0.975]\n",
      "---------------------------------------------------------------------------------------------\n",
      "Intercept                    -6.6292      2.391     -2.773      0.010     -11.519      -1.739\n",
      "Winery[T.Cos d'Estournel]    -1.3617      0.139     -9.770      0.000      -1.647      -1.077\n",
      "WinterRain                    0.0016      0.001      2.363      0.025       0.000       0.003\n",
      "HarvestRain                  -0.0016      0.002     -1.005      0.323      -0.005       0.002\n",
      "GrowTemp                      0.6093      0.140      4.359      0.000       0.323       0.895\n",
      "Age                           0.0358      0.007      4.966      0.000       0.021       0.050\n",
      "==============================================================================\n",
      "Omnibus:                        5.334   Durbin-Watson:                   1.852\n",
      "Prob(Omnibus):                  0.069   Jarque-Bera (JB):                3.865\n",
      "Skew:                           0.747   Prob(JB):                        0.145\n",
      "Kurtosis:                       3.648   Cond. No.                     2.21e+04\n",
      "==============================================================================\n",
      "\n",
      "Notes:\n",
      "[1] Standard Errors assume that the covariance matrix of the errors is correctly specified.\n",
      "[2] The condition number is large, 2.21e+04. This might indicate that there are\n",
      "strong multicollinearity or other numerical problems.\n"
     ]
    }
   ],
   "source": [
    "modTwo = smf.ols(formula='LogAuction ~ Winery + WinterRain + HarvestRain + GrowTemp + Age',\n",
    "                 data=wine_two_train).fit()\n",
    "print(modTwo.summary())"
   ]
  },
  {
   "cell_type": "markdown",
   "metadata": {},
   "source": [
    "### More Wineries\n",
    "Now let's expand to the complete set of values that `Winery` can take:"
   ]
  },
  {
   "cell_type": "code",
   "execution_count": 22,
   "metadata": {},
   "outputs": [
    {
     "name": "stdout",
     "output_type": "stream",
     "text": [
      "                            OLS Regression Results                            \n",
      "==============================================================================\n",
      "Dep. Variable:             LogAuction   R-squared:                       0.851\n",
      "Model:                            OLS   Adj. R-squared:                  0.834\n",
      "Method:                 Least Squares   F-statistic:                     52.68\n",
      "Date:                Fri, 08 Sep 2023   Prob (F-statistic):           1.73e-27\n",
      "Time:                        14:20:19   Log-Likelihood:                -43.659\n",
      "No. Observations:                  83   AIC:                             105.3\n",
      "Df Residuals:                      74   BIC:                             127.1\n",
      "Df Model:                           8                                         \n",
      "Covariance Type:            nonrobust                                         \n",
      "===============================================================================================\n",
      "                                  coef    std err          t      P>|t|      [0.025      0.975]\n",
      "-----------------------------------------------------------------------------------------------\n",
      "Intercept                      -4.4946      1.576     -2.852      0.006      -7.634      -1.355\n",
      "Winery[T.Cheval Blanc]          1.6425      0.152     10.819      0.000       1.340       1.945\n",
      "Winery[T.Cos d'Estournel]       0.2754      0.165      1.669      0.099      -0.053       0.604\n",
      "Winery[T.Giscours]             -0.2993      0.193     -1.547      0.126      -0.685       0.086\n",
      "Winery[T.Lafite-Rothschild]     1.8941      0.148     12.788      0.000       1.599       2.189\n",
      "WinterRain                      0.0016      0.000      3.665      0.000       0.001       0.003\n",
      "HarvestRain                     0.0004      0.001      0.436      0.664      -0.001       0.002\n",
      "GrowTemp                        0.3876      0.089      4.374      0.000       0.211       0.564\n",
      "Age                             0.0308      0.005      5.617      0.000       0.020       0.042\n",
      "==============================================================================\n",
      "Omnibus:                        6.522   Durbin-Watson:                   1.725\n",
      "Prob(Omnibus):                  0.038   Jarque-Bera (JB):                6.227\n",
      "Skew:                           0.667   Prob(JB):                       0.0444\n",
      "Kurtosis:                       3.136   Cond. No.                     1.98e+04\n",
      "==============================================================================\n",
      "\n",
      "Notes:\n",
      "[1] Standard Errors assume that the covariance matrix of the errors is correctly specified.\n",
      "[2] The condition number is large, 1.98e+04. This might indicate that there are\n",
      "strong multicollinearity or other numerical problems.\n"
     ]
    }
   ],
   "source": [
    "modNew = smf.ols(formula='LogAuction ~ Winery + WinterRain + HarvestRain + GrowTemp + Age',\n",
    "                 data=wine_new_train).fit()\n",
    "print(modNew.summary())"
   ]
  },
  {
   "cell_type": "markdown",
   "metadata": {},
   "source": [
    "We need k-1 dummy variables to work with k categories (why?)\n",
    "- Variable WineryCheval Blanc: 1 if from Cheval Blanc, otherwise 0\n",
    "- Variable WineryCosd’Estournel: 1 if from Cos d’Estournel, otherwise 0\n",
    "- Variable WineryGiscours: 1 if from Giscours, otherwise 0\n",
    "- Variable WineryLafite-Rothschild: 1 if from Lafite-Rothschild, otherwise 0\n",
    "- All variables 0 if wine from Beychevelle"
   ]
  },
  {
   "cell_type": "markdown",
   "metadata": {},
   "source": [
    "### Evaluate our final model"
   ]
  },
  {
   "cell_type": "code",
   "execution_count": 23,
   "metadata": {},
   "outputs": [
    {
     "data": {
      "text/plain": [
       "0.8067709525977531"
      ]
     },
     "execution_count": 23,
     "metadata": {},
     "output_type": "execute_result"
    }
   ],
   "source": [
    "# compute out-of-sample R squared\n",
    "OSR2(modNew, wine_new_train, wine_new_test, 'LogAuction')"
   ]
  },
  {
   "cell_type": "code",
   "execution_count": null,
   "metadata": {},
   "outputs": [],
   "source": []
  }
 ],
 "metadata": {
  "kernelspec": {
   "display_name": "Python 3 (Spyder)",
   "language": "python3",
   "name": "python3"
  },
  "language_info": {
   "codemirror_mode": {
    "name": "ipython",
    "version": 3
   },
   "file_extension": ".py",
   "mimetype": "text/x-python",
   "name": "python",
   "nbconvert_exporter": "python",
   "pygments_lexer": "ipython3",
   "version": "3.11.4"
  }
 },
 "nbformat": 4,
 "nbformat_minor": 4
}
